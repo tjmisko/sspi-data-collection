{
 "cells": [
  {
   "cell_type": "markdown",
   "metadata": {},
   "source": [
    "# Comparison of OECD and IEA Transport $\\text{CO}_2$ Data\n",
    "\n",
    "The SSPI currently uses Transport from $\\text{CO}_2$ emissions data from the OECD, which has limited coverage. This notebook compares OECD data with IEA data, which has more complete coverage.  "
   ]
  },
  {
   "cell_type": "markdown",
   "metadata": {},
   "source": [
    "We start by importing packages and defining collector functions to be used in this notebook."
   ]
  },
  {
   "cell_type": "code",
   "execution_count": 5,
   "metadata": {},
   "outputs": [],
   "source": [
    "import pandas as pd\n",
    "import requests"
   ]
  },
  {
   "cell_type": "markdown",
   "metadata": {},
   "source": [
    "## Loading the Data\n",
    "\n",
    "We load the OECD data from the `sspi_clean_api_data` database.  The `sspi_clean_api_data` database is a (very long) list of *observations*, where each observation corresponds to a unique combination of Country, Year, and IndicatorCode.  For every Country-Year-IndicatorCode key, there is at most one observation in the database containing the raw (i.e. not goalposted) value of the indicator and any intermediates used to compute it.  If we did not find data from our datasources, then there will be no record in the database.\n",
    "\n",
    "Every observation takes the form of a dictionary of a JSON file, which is equivalent to a Python dictionary for our intents and purposes.  More on this below.\n",
    "\n",
    "For OECD, Max has already written the collector function and cleaned via the compute function for the GTRANS indicator.  The particular data we want—$\\text{CO}_2$ emissions from transit sources—is stored under the \"intermediates\" key in the JSON data, so we extract it from there for each observation returned from our database."
   ]
  },
  {
   "cell_type": "code",
   "execution_count": 6,
   "metadata": {},
   "outputs": [],
   "source": [
    "oecd_res = requests.get(\"http://127.0.0.1:5000/api/v1/query/indicator/GTRANS?database=sspi_clean_api_data\")\n",
    "oecd = pd.DataFrame(oecd_res.json())\n",
    "print(oecd.head()"
   ]
  },
  {
   "cell_type": "code",
   "execution_count": null,
   "metadata": {},
   "outputs": [],
   "source": [
    "iea_res = requests.get(\"http://127.0.0.1:5000/api/v1/query/indicator/GTRANS?database=sspi_clean_api_data\")"
   ]
  }
 ],
 "metadata": {
  "kernelspec": {
   "display_name": "env",
   "language": "python",
   "name": "python3"
  },
  "language_info": {
   "codemirror_mode": {
    "name": "ipython",
    "version": 3
   },
   "file_extension": ".py",
   "mimetype": "text/x-python",
   "name": "python",
   "nbconvert_exporter": "python",
   "pygments_lexer": "ipython3",
   "version": "3.9.4"
  },
  "orig_nbformat": 4
 },
 "nbformat": 4,
 "nbformat_minor": 2
}

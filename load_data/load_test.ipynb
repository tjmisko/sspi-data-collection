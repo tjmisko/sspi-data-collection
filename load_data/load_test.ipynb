{
 "cells": [
  {
   "cell_type": "markdown",
   "metadata": {},
   "source": [
    "# Working Example of a Data Loading Notebook\n",
    "For many indicators, we will not be able to pull dynamic data from a data API. In these cases, we will need to manually load the data into the database. This notebook provides a working example of how to do this."
   ]
  },
  {
   "cell_type": "markdown",
   "metadata": {},
   "source": [
    "## Step 0: Connecting to Live Databases\n",
    "\n",
    "We will need to be able to work with the live running instances of our databases.  Right now, we're using MongoDB to store our semistructured data. There are two flavors of live databases: (1) the databases  which require authentication to access.  We protect these databases so that "
   ]
  },
  {
   "cell_type": "code",
   "execution_count": 14,
   "metadata": {},
   "outputs": [],
   "source": [
    "import pandas as pd\n",
    "import numpy as np\n",
    "from sys import path\n",
    "path.append('../')\n",
    "\n",
    "from database_connector.SSPIDatabaseConnector import SSPIDatabaseConnector\n",
    "database = SSPIDatabaseConnector()\n"
   ]
  },
  {
   "cell_type": "markdown",
   "metadata": {},
   "source": [
    "# 1 - Import the Data"
   ]
  }
 ],
 "metadata": {
  "kernelspec": {
   "display_name": "env",
   "language": "python",
   "name": "python3"
  },
  "language_info": {
   "codemirror_mode": {
    "name": "ipython",
    "version": 3
   },
   "file_extension": ".py",
   "mimetype": "text/x-python",
   "name": "python",
   "nbconvert_exporter": "python",
   "pygments_lexer": "ipython3",
   "version": "3.12.0"
  }
 },
 "nbformat": 4,
 "nbformat_minor": 2
}

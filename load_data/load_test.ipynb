{
 "cells": [
  {
   "cell_type": "markdown",
   "metadata": {},
   "source": [
    "# Working Example of a Data Loading Notebook\n",
    "For many indicators, we will not be able to pull dynamic data from a data API. In these cases, we will need to manually load the data into the database. This notebook provides a working example of how to do this."
   ]
  },
  {
   "cell_type": "markdown",
   "metadata": {},
   "source": [
    "## Step 0: Connecting to Live Databases\n",
    "\n",
    "We will need to be able to work with the live running instances of our databases.  Right now, we're using MongoDB to store our semistructured data. There are two flavors of live databases: (1) the databases  which require authentication to access.  We protect these databases so that "
   ]
  },
  {
   "cell_type": "code",
   "execution_count": 13,
   "metadata": {},
   "outputs": [
    {
     "ename": "ModuleNotFoundError",
     "evalue": "No module named 'database_connector'",
     "output_type": "error",
     "traceback": [
      "\u001b[0;31m---------------------------------------------------------------------------\u001b[0m",
      "\u001b[0;31mModuleNotFoundError\u001b[0m                       Traceback (most recent call last)",
      "\u001b[1;32m/Users/tristanmisko/Documents/Projects/sspi-data-collection/load_data/load_test.ipynb Cell 3\u001b[0m line \u001b[0;36m1\n\u001b[0;32m----> <a href='vscode-notebook-cell:/Users/tristanmisko/Documents/Projects/sspi-data-collection/load_data/load_test.ipynb#W0sZmlsZQ%3D%3D?line=0'>1</a>\u001b[0m \u001b[39mfrom\u001b[39;00m \u001b[39mdatabase_connector\u001b[39;00m\u001b[39m.\u001b[39;00m\u001b[39mSSPIDatabaseConnector\u001b[39;00m \u001b[39mimport\u001b[39;00m SSPIDatabaseConnector\n\u001b[1;32m      <a href='vscode-notebook-cell:/Users/tristanmisko/Documents/Projects/sspi-data-collection/load_data/load_test.ipynb#W0sZmlsZQ%3D%3D?line=1'>2</a>\u001b[0m database \u001b[39m=\u001b[39m SSPIDatabaseConnector()\n",
      "\u001b[0;31mModuleNotFoundError\u001b[0m: No module named 'database_connector'"
     ]
    }
   ],
   "source": [
    "import pandas as pd\n",
    "import numpy as np\n",
    "from sys import path\n",
    "path.append('../')\n",
    "\n",
    "from database_connector.SSPIDatabaseConnector import SSPIDatabaseConnector\n",
    "database = SSPIDatabaseConnector()\n"
   ]
  },
  {
   "cell_type": "markdown",
   "metadata": {},
   "source": [
    "# 1 - Import the Data"
   ]
  }
 ],
 "metadata": {
  "kernelspec": {
   "display_name": "env",
   "language": "python",
   "name": "python3"
  },
  "language_info": {
   "codemirror_mode": {
    "name": "ipython",
    "version": 3
   },
   "file_extension": ".py",
   "mimetype": "text/x-python",
   "name": "python",
   "nbconvert_exporter": "python",
   "pygments_lexer": "ipython3",
   "version": "3.12.0"
  }
 },
 "nbformat": 4,
 "nbformat_minor": 2
}

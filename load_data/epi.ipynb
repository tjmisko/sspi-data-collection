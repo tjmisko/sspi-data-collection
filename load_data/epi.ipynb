{
 "cells": [
  {
   "cell_type": "markdown",
   "metadata": {},
   "source": [
    "# Initialization\n",
    "\n",
    "*Please read carefully*. In order to run the notebook successfully, you need to follow a few steps:\n",
    "1. Download the raw data you'd like to load to the appropriate location on your computer.\n",
    "2. Run the code below to import the necessary packages.\n",
    "3. Determine whether you would like to load data to your local instance of the app (the one you run via `flask run` in your terminal at http://127.0.0.1:5000) or to the live online database (https://sspi.world)."
   ]
  },
  {
   "cell_type": "markdown",
   "metadata": {},
   "source": [
    "## 1. Set the Filepath\n",
    "\n",
    "In order to load data, you first have to tell your computer where it is.  I keep my data in the `bulk_data` folder, which is a sibling of this file (it is in the same folder).  You will notice, however, that you can't see any of my data files.  This is not an accident.  GitHub does not like to store large files, so I have `.gitignore`d the contents of the `bulk_data` folder. What this means is that git will not keep track of the contents of this folder, and will not upload or download it.  This means that it will be your responsibility to keep the folder organized.  I recommend following the SSPI hierarchy, with three folders for the three pillars, nested folders for the categories, and further nested folders for the indicators.  Inside of the indicator folders, you can keep the raw(s) file for the data.\n",
    "\n",
    "To import from this folder, you'll use the relative "
   ]
  },
  {
   "cell_type": "code",
   "execution_count": null,
   "metadata": {},
   "outputs": [],
   "source": []
  },
  {
   "cell_type": "markdown",
   "metadata": {},
   "source": [
    "This script filters, cleans, and loads data from the EPI bulk dataset to be used with the dynamic SSPI.  \n",
    "\n",
    "# Data Source\n",
    "\n",
    "The 2018 SSPI originally used the Nitrogen Management Index sourced through the Environmental Performance Index (EPI) from their website, https://epi.yale.edu/.  The original values sourced for the SSPI were copied and pasted by hand from the EPI website.  The EPI website has since been updated, and the page from which the data were copied no longer exists.  The 2022 version of the page is available at https://epi.yale.edu/epi-results/2022/component/snm.\n",
    "\n",
    "Fortunately, https://epi.yale.edu/downloads has a blurb which contains a link to https://sedac.ciesin.columbia.edu/data/set/epi-environmental-performance-index-2022/data-download for bulk data downloads.  The most recent bulk download is for 2022, and covers the years 1950 - 2022.\n",
    "\n",
    "There are also previous years available for download.  It may be an interesting project to compare the EPI datasets over the years to see how they revise data and whether we think their methodology produces reliable results.  For now, we will focus on the 2022 dataset, which I have downloaded locally and uploaded to the Google Drive at https://drive.google.com/drive/folders/102Lg4NREiRhH_pzLabiVbkHvxRiaepDq?usp=sharing"
   ]
  },
  {
   "cell_type": "code",
   "execution_count": null,
   "metadata": {},
   "outputs": [],
   "source": [
    "import pandas as pd\n",
    "import numpy as np\n",
    "from sys import path\n",
    "path.append('../')\n",
    "\n",
    "from database_connector.SSPIDatabaseConnector import SSPIDatabaseConnector\n",
    "database = SSPIDatabaseConnector()\n"
   ]
  },
  {
   "cell_type": "markdown",
   "metadata": {},
   "source": []
  }
 ],
 "metadata": {
  "kernelspec": {
   "display_name": "env",
   "language": "python",
   "name": "python3"
  },
  "language_info": {
   "codemirror_mode": {
    "name": "ipython",
    "version": 3
   },
   "file_extension": ".py",
   "mimetype": "text/x-python",
   "name": "python",
   "nbconvert_exporter": "python",
   "pygments_lexer": "ipython3",
   "version": "3.12.0"
  }
 },
 "nbformat": 4,
 "nbformat_minor": 2
}
